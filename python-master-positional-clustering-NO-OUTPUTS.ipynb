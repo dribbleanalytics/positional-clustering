{
 "cells": [
  {
   "cell_type": "code",
   "execution_count": null,
   "metadata": {},
   "outputs": [],
   "source": [
    "%matplotlib inline\n",
    "\n",
    "import matplotlib.pyplot as plt\n",
    "import numpy as np\n",
    "import pandas as pd\n",
    "from sklearn.cluster import KMeans\n",
    "from sklearn.decomposition import PCA\n",
    "from sklearn.preprocessing import StandardScaler\n",
    "from sklearn.metrics import silhouette_score"
   ]
  },
  {
   "cell_type": "markdown",
   "metadata": {},
   "source": [
    "# A simple example of clustering"
   ]
  },
  {
   "cell_type": "code",
   "execution_count": null,
   "metadata": {},
   "outputs": [],
   "source": [
    "df_example = pd.read_csv('clustering-example.csv')"
   ]
  },
  {
   "cell_type": "code",
   "execution_count": null,
   "metadata": {},
   "outputs": [],
   "source": [
    "stl_leaders = df_example[0:5]\n",
    "blk_leaders = df_example[5:]"
   ]
  },
  {
   "cell_type": "code",
   "execution_count": null,
   "metadata": {},
   "outputs": [],
   "source": [
    "plt.style.use('fivethirtyeight')\n",
    "\n",
    "stl_blk, ax = plt.subplots()\n",
    "\n",
    "ax.scatter(df_example['STL'], df_example['BLK'])\n",
    "\n",
    "ax.set_xlabel('STL/G')\n",
    "ax.set_ylabel('BLK/G')\n",
    "\n",
    "stl_blk.suptitle(\"Top 5 players in steals and blocks\", weight = 'bold', size = 18)\n",
    "\n",
    "stl_blk.text(x = -0.02, y = -0.08,\n",
    "    s = '____________________________________________________________',\n",
    "    fontsize = 14, color = 'grey', horizontalalignment='left')\n",
    "\n",
    "stl_blk.text(x = -0.02, y = -.14,\n",
    "    s = 'https://dribbleanalytics.blog                     ',\n",
    "    fontsize = 14, fontname = 'Rockwell', color = 'grey', horizontalalignment='left')\n",
    "\n",
    "stl_blk.savefig('stl-blk.png', dpi = 400, bbox_inches = 'tight')"
   ]
  },
  {
   "cell_type": "code",
   "execution_count": null,
   "metadata": {},
   "outputs": [],
   "source": [
    "plt.style.use('fivethirtyeight')\n",
    "\n",
    "stl_blk_separated, ax = plt.subplots()\n",
    "\n",
    "ax.scatter(stl_leaders['STL'], stl_leaders['BLK'], label = 'STL leaders')\n",
    "ax.scatter(blk_leaders['STL'], blk_leaders['BLK'], label = 'BLK leaders')\n",
    "\n",
    "ax.legend(loc='best', prop={'size': 12, \"family\": \"Rockwell\"})\n",
    "\n",
    "ax.set_xlabel('STL/G')\n",
    "ax.set_ylabel('BLK/G')\n",
    "\n",
    "stl_blk_separated.suptitle(\"Top 5 players in steals and blocks\", weight = 'bold', size = 18)\n",
    "\n",
    "stl_blk_separated.text(x = -0.02, y = -0.08,\n",
    "    s = '____________________________________________________________',\n",
    "    fontsize = 14, color = 'grey', horizontalalignment='left')\n",
    "\n",
    "stl_blk_separated.text(x = -0.02, y = -.14,\n",
    "    s = 'https://dribbleanalytics.blog                     ',\n",
    "    fontsize = 14, fontname = 'Rockwell', color = 'grey', horizontalalignment='left')\n",
    "\n",
    "stl_blk_separated.savefig('stl-blk-separated.png', dpi = 400, bbox_inches = 'tight')"
   ]
  },
  {
   "cell_type": "code",
   "execution_count": null,
   "metadata": {},
   "outputs": [],
   "source": [
    "kmeans = KMeans(n_clusters = 2, random_state = 0)\n",
    "\n",
    "x = np.column_stack((df_example['STL'], df_example['BLK']))\n",
    "\n",
    "kmeans.fit(x)\n",
    "\n",
    "y_kmeans = kmeans.predict(x)"
   ]
  },
  {
   "cell_type": "code",
   "execution_count": null,
   "metadata": {},
   "outputs": [],
   "source": [
    "plt.style.use('fivethirtyeight')\n",
    "\n",
    "stl_blk_clustered, ax = plt.subplots()\n",
    "\n",
    "cluster_1 = []\n",
    "cluster_2 = []\n",
    "\n",
    "for i in range(len(y_kmeans)):\n",
    "    if(y_kmeans[i] == 0):\n",
    "        cluster_1.append(x[i])\n",
    "    elif(y_kmeans[i] == 1):\n",
    "        cluster_2.append(x[i])\n",
    "        \n",
    "cluster_1 = np.vstack(cluster_1)\n",
    "cluster_2 = np.vstack(cluster_2)\n",
    "\n",
    "ax.scatter(cluster_1[:, 0], cluster_1[:, 1], label = \"Cluster 1\")\n",
    "ax.scatter(cluster_2[:, 0], cluster_2[:, 1], label = \"Cluster 2\")\n",
    "\n",
    "centers = kmeans.cluster_centers_\n",
    "ax.scatter(centers[:, 0], centers[:, 1], c = 'black', s = 200, alpha = .5, label = 'Cluster center')\n",
    "\n",
    "ax.legend(loc='best', prop={'size': 12, \"family\": \"Rockwell\"})\n",
    "\n",
    "ax.set_xlabel('STL/G')\n",
    "ax.set_ylabel('BLK/G')\n",
    "\n",
    "stl_blk_clustered.suptitle(\"Clustered steals and blocks leaders\", weight = 'bold', size = 18)\n",
    "\n",
    "stl_blk_clustered.text(x = -0.02, y = -0.08,\n",
    "    s = '____________________________________________________________',\n",
    "    fontsize = 14, color = 'grey', horizontalalignment='left')\n",
    "\n",
    "stl_blk_clustered.text(x = -0.02, y = -.14,\n",
    "    s = 'https://dribbleanalytics.blog                     ',\n",
    "    fontsize = 14, fontname = 'Rockwell', color = 'grey', horizontalalignment='left')\n",
    "\n",
    "stl_blk_clustered.savefig('stl-blk-clustered.png', dpi = 400, bbox_inches = 'tight')"
   ]
  },
  {
   "cell_type": "markdown",
   "metadata": {},
   "source": [
    "Let's add a couple more features to this to see how we can differentiate the players differently"
   ]
  },
  {
   "cell_type": "code",
   "execution_count": null,
   "metadata": {},
   "outputs": [],
   "source": [
    "kmeans = KMeans(n_clusters = 2, random_state = 0)\n",
    "\n",
    "x = np.column_stack((df_example['PTS'], df_example['TRB'], df_example['AST'], df_example['STL'], df_example['BLK']))\n",
    "\n",
    "kmeans.fit(x)\n",
    "\n",
    "y_kmeans = kmeans.predict(x)"
   ]
  },
  {
   "cell_type": "code",
   "execution_count": null,
   "metadata": {},
   "outputs": [],
   "source": [
    "for i, j in zip(df_example['Player'], y_kmeans):\n",
    "    print(i, j)"
   ]
  },
  {
   "cell_type": "markdown",
   "metadata": {},
   "source": [
    "When we add other features to the cluster, the model clusters superstars together"
   ]
  },
  {
   "cell_type": "markdown",
   "metadata": {},
   "source": [
    "# Let's cluster the top 50 players in PPG"
   ]
  },
  {
   "cell_type": "code",
   "execution_count": null,
   "metadata": {},
   "outputs": [],
   "source": [
    "df_counting = pd.read_csv('counting-stats.csv')\n",
    "df_advanced = pd.read_csv('advanced-stats.csv')"
   ]
  },
  {
   "cell_type": "code",
   "execution_count": null,
   "metadata": {},
   "outputs": [],
   "source": [
    "kmeans = KMeans(n_clusters = 3, random_state = 98)\n",
    "\n",
    "x = np.column_stack((df_counting['PTS'], df_advanced['USG%']))\n",
    "\n",
    "kmeans.fit(x)\n",
    "\n",
    "y_kmeans = kmeans.predict(x)"
   ]
  },
  {
   "cell_type": "code",
   "execution_count": null,
   "metadata": {},
   "outputs": [],
   "source": [
    "for i, j in zip(df_counting['Player'], y_kmeans):\n",
    "    print(i, j)"
   ]
  },
  {
   "cell_type": "code",
   "execution_count": null,
   "metadata": {},
   "outputs": [],
   "source": [
    "plt.style.use('fivethirtyeight')\n",
    "\n",
    "pts_usg_clustered, ax = plt.subplots()\n",
    "\n",
    "cluster_1 = []\n",
    "cluster_2 = []\n",
    "cluster_3 = []\n",
    "\n",
    "for i in range(len(y_kmeans)):\n",
    "    if(y_kmeans[i] == 0):\n",
    "        cluster_1.append(x[i])\n",
    "    elif(y_kmeans[i] == 1):\n",
    "        cluster_2.append(x[i])\n",
    "    elif(y_kmeans[i] == 2):\n",
    "        cluster_3.append(x[i])\n",
    "        \n",
    "cluster_1 = np.vstack(cluster_1)\n",
    "cluster_2 = np.vstack(cluster_2)\n",
    "cluster_3 = np.vstack(cluster_3)\n",
    "\n",
    "ax.scatter(cluster_1[:, 0], cluster_1[:, 1], label = \"Cluster 1 (secondary scorers)\")\n",
    "ax.scatter(cluster_2[:, 0], cluster_2[:, 1], label = \"Cluster 2 (primary scorers)\")\n",
    "ax.scatter(cluster_3[:, 0], cluster_3[:, 1], label = \"Cluster 3 (James Harden)\")\n",
    "\n",
    "centers = kmeans.cluster_centers_\n",
    "ax.scatter(centers[:, 0], centers[:, 1], c = 'black', s = 200, alpha = .5, label = 'Cluster center')\n",
    "\n",
    "ax.legend(loc='best', prop={'size': 12, \"family\": \"Rockwell\"})\n",
    "\n",
    "ax.set_xlabel('PPG')\n",
    "ax.set_ylabel('USG%')\n",
    "\n",
    "pts_usg_clustered.suptitle(\"Clustered points and usage\", weight = 'bold', size = 18)\n",
    "\n",
    "pts_usg_clustered.text(x = -0.02, y = -0.08,\n",
    "    s = '____________________________________________________________',\n",
    "    fontsize = 14, color = 'grey', horizontalalignment='left')\n",
    "\n",
    "pts_usg_clustered.text(x = -0.02, y = -.14,\n",
    "    s = 'https://dribbleanalytics.blog                     ',\n",
    "    fontsize = 14, fontname = 'Rockwell', color = 'grey', horizontalalignment='left')\n",
    "\n",
    "pts_usg_clustered.savefig('pts-usg-clustered.png', dpi = 400, bbox_inches = 'tight')"
   ]
  },
  {
   "cell_type": "code",
   "execution_count": null,
   "metadata": {},
   "outputs": [],
   "source": [
    "kmeans = KMeans(n_clusters = 4, random_state = 99)\n",
    "\n",
    "x = np.column_stack((df_counting['AST'], df_advanced['USG%']))\n",
    "\n",
    "kmeans.fit(x)\n",
    "\n",
    "y_kmeans = kmeans.predict(x)"
   ]
  },
  {
   "cell_type": "code",
   "execution_count": null,
   "metadata": {},
   "outputs": [],
   "source": [
    "for i, j in zip(df_counting['Player'], y_kmeans):\n",
    "    print(i, j)"
   ]
  },
  {
   "cell_type": "code",
   "execution_count": null,
   "metadata": {},
   "outputs": [],
   "source": [
    "plt.style.use('fivethirtyeight')\n",
    "\n",
    "ast_usg_clustered, ax = plt.subplots()\n",
    "\n",
    "cluster_1 = []\n",
    "cluster_2 = []\n",
    "cluster_3 = []\n",
    "cluster_4 = []\n",
    "\n",
    "for i in range(len(y_kmeans)):\n",
    "    if(y_kmeans[i] == 2):\n",
    "        cluster_1.append(x[i])\n",
    "    elif(y_kmeans[i] == 1):\n",
    "        cluster_2.append(x[i])\n",
    "    elif(y_kmeans[i] == 0):\n",
    "        cluster_3.append(x[i])\n",
    "    elif(y_kmeans[i] == 3):\n",
    "        cluster_4.append(x[i])\n",
    "        \n",
    "cluster_1 = np.vstack(cluster_1)\n",
    "cluster_2 = np.vstack(cluster_2)\n",
    "cluster_3 = np.vstack(cluster_3)\n",
    "cluster_4 = np.vstack(cluster_4)\n",
    "\n",
    "ax.scatter(cluster_1[:, 0], cluster_1[:, 1], label = \"Cluster 1 (scorers)\")\n",
    "ax.scatter(cluster_2[:, 0], cluster_2[:, 1], label = \"Cluster 2 (passers)\")\n",
    "ax.scatter(cluster_3[:, 0], cluster_3[:, 1], label = \"Cluster 3 (stars)\")\n",
    "ax.scatter(cluster_4[:, 0], cluster_4[:, 1], label = \"Cluster 4 (James Harden)\")\n",
    "\n",
    "centers = kmeans.cluster_centers_\n",
    "ax.scatter(centers[:, 0], centers[:, 1], c = 'black', s = 200, alpha = .5, label = 'Cluster center')\n",
    "\n",
    "ax.legend(loc='best', prop={'size': 12, \"family\": \"Rockwell\"})\n",
    "\n",
    "ax.set_xlabel('AST')\n",
    "ax.set_ylabel('USG%')\n",
    "\n",
    "ast_usg_clustered.suptitle(\"Clustered assists and usage\", weight = 'bold', size = 18)\n",
    "\n",
    "ast_usg_clustered.text(x = -0.02, y = -0.08,\n",
    "    s = '____________________________________________________________',\n",
    "    fontsize = 14, color = 'grey', horizontalalignment='left')\n",
    "\n",
    "ast_usg_clustered.text(x = -0.02, y = -.14,\n",
    "    s = 'https://dribbleanalytics.blog                     ',\n",
    "    fontsize = 14, fontname = 'Rockwell', color = 'grey', horizontalalignment='left')\n",
    "\n",
    "ast_usg_clustered.savefig('ast-usg-clustered.png', dpi = 400, bbox_inches = 'tight')"
   ]
  },
  {
   "cell_type": "markdown",
   "metadata": {},
   "source": [
    "# Now let's cluster NBA rotation players"
   ]
  },
  {
   "cell_type": "code",
   "execution_count": null,
   "metadata": {},
   "outputs": [],
   "source": [
    "df_full_nba = pd.read_csv('full-nba-data.csv')"
   ]
  },
  {
   "cell_type": "code",
   "execution_count": null,
   "metadata": {},
   "outputs": [],
   "source": [
    "df_full_nba.head()"
   ]
  },
  {
   "cell_type": "code",
   "execution_count": null,
   "metadata": {},
   "outputs": [],
   "source": [
    "df_full_nba.columns.values"
   ]
  },
  {
   "cell_type": "code",
   "execution_count": null,
   "metadata": {},
   "outputs": [],
   "source": [
    "features = ['Pos', 'FG', 'FGA', 'FG%', '3P', '3PA', '3P%', '2P', '2PA', '2P%', 'eFG%', 'FT', 'FTA', 'FT%', 'ORB', 'DRB', 'TRB',\n",
    "            'AST', 'STL', 'BLK', 'TOV', 'PF', 'PTS', 'PER', 'TS%', '3PAr', 'FTr', 'ORB%', 'DRB%', 'TRB%', 'AST%', 'STL%',\n",
    "            'BLK%', 'TOV%', 'USG%', 'OWS', 'DWS', 'WS', 'WS/48', 'OBPM', 'DBPM', 'BPM', 'VORP']"
   ]
  },
  {
   "cell_type": "code",
   "execution_count": null,
   "metadata": {},
   "outputs": [],
   "source": [
    "x = df_full_nba.loc[:, features].values\n",
    "\n",
    "x = StandardScaler().fit_transform(x)"
   ]
  },
  {
   "cell_type": "code",
   "execution_count": null,
   "metadata": {},
   "outputs": [],
   "source": [
    "pca_list = []\n",
    "\n",
    "for n_components in range(2, 11):\n",
    "    pca = PCA(n_components = n_components)\n",
    "    components = pca.fit_transform(x)\n",
    "    pca_variance = sum(pca.explained_variance_ratio_)\n",
    "    pca_list.append(pca_variance)\n",
    "    print(\"For n_components = {}, explained variance ratio is {}\".format(n_components, pca_variance))"
   ]
  },
  {
   "cell_type": "code",
   "execution_count": null,
   "metadata": {},
   "outputs": [],
   "source": [
    "plt.style.use('fivethirtyeight')\n",
    "\n",
    "pca_fig, ax = plt.subplots()\n",
    "\n",
    "ax.plot(range(2, 11), pca_list)\n",
    "\n",
    "ax.set_xlabel('Number of components')\n",
    "ax.set_ylabel('Explained variance ratio')\n",
    "\n",
    "ax.set_xticks(np.arange(2, 11, 1.0))\n",
    "\n",
    "pca_fig.suptitle(\"Finding the right number of components\", weight = 'bold', size = 18)\n",
    "\n",
    "pca_fig.text(x = -0.05, y = -0.08,\n",
    "    s = '______________________________________________________________',\n",
    "    fontsize = 14, color = 'grey', horizontalalignment='left')\n",
    "\n",
    "pca_fig.text(x = -0.05, y = -.14,\n",
    "    s = 'https://dribbleanalytics.blog                     ',\n",
    "    fontsize = 14, fontname = 'Rockwell', color = 'grey', horizontalalignment='left')\n",
    "\n",
    "pca_fig.savefig('pca-variance.png', dpi = 400, bbox_inches = 'tight')"
   ]
  },
  {
   "cell_type": "code",
   "execution_count": null,
   "metadata": {},
   "outputs": [],
   "source": [
    "from numpy import diff\n",
    "\n",
    "dx = 1\n",
    "y = pca_list\n",
    "dy = diff(y)/dx\n",
    "print(dy)"
   ]
  },
  {
   "cell_type": "code",
   "execution_count": null,
   "metadata": {},
   "outputs": [],
   "source": [
    "pca_deriv, ax = plt.subplots()\n",
    "\n",
    "ax.plot(range(3, 11), dy)\n",
    "\n",
    "ax.set_xlabel('Number of components')\n",
    "ax.set_ylabel('dy(explained variance)/dx')\n",
    "\n",
    "ax.set_xticks(np.arange(3, 11, 1.0))\n",
    "\n",
    "pca_deriv.suptitle(\"Finding the right number of components\", weight = 'bold', size = 18)\n",
    "\n",
    "pca_deriv.text(x = -0.05, y = -0.08,\n",
    "    s = '______________________________________________________________',\n",
    "    fontsize = 14, color = 'grey', horizontalalignment='left')\n",
    "\n",
    "pca_deriv.text(x = -0.05, y = -.14,\n",
    "    s = 'https://dribbleanalytics.blog                     ',\n",
    "    fontsize = 14, fontname = 'Rockwell', color = 'grey', horizontalalignment='left')\n",
    "\n",
    "pca_deriv.savefig('pca-deriv.png', dpi = 400, bbox_inches = 'tight')"
   ]
  },
  {
   "cell_type": "code",
   "execution_count": null,
   "metadata": {},
   "outputs": [],
   "source": [
    "pca = PCA(n_components = 6)\n",
    "\n",
    "components = pca.fit_transform(x)\n",
    "\n",
    "pca_df = pd.DataFrame(data = components, columns = ['PC 1', 'PC 2', 'PC 3', 'PC 4', 'PC 5', 'PC 6'])\n",
    "\n",
    "pca_df['Player'] = df_full_nba['Player']\n",
    "pca_df = pca_df[['Player', 'PC 1', 'PC 2', 'PC 3', 'PC 4', 'PC 5', 'PC 6']]"
   ]
  },
  {
   "cell_type": "code",
   "execution_count": null,
   "metadata": {},
   "outputs": [],
   "source": [
    "pca_df.head()"
   ]
  },
  {
   "cell_type": "code",
   "execution_count": null,
   "metadata": {},
   "outputs": [],
   "source": [
    "print(pca.explained_variance_ratio_)\n",
    "print(sum(pca.explained_variance_ratio_))"
   ]
  },
  {
   "cell_type": "code",
   "execution_count": null,
   "metadata": {},
   "outputs": [],
   "source": [
    "x = np.column_stack((pca_df['PC 1'], pca_df['PC 2'], pca_df['PC 3'], pca_df['PC 4'], pca_df['PC 5'], pca_df['PC 6']))\n",
    "\n",
    "silhouette = []\n",
    "\n",
    "for n_clusters in range(2, 21):\n",
    "    kmeans = KMeans(n_clusters = n_clusters, random_state = 99)\n",
    "    cluster_labels = kmeans.fit_predict(x)\n",
    "    \n",
    "    centers = kmeans.cluster_centers_\n",
    "\n",
    "    score = silhouette_score(x, cluster_labels)\n",
    "    silhouette.append(score)\n",
    "    print(\"For n_clusters = {}, silhouette score is {}\".format(n_clusters, score))"
   ]
  },
  {
   "cell_type": "code",
   "execution_count": null,
   "metadata": {},
   "outputs": [],
   "source": [
    "plt.style.use('fivethirtyeight')\n",
    "\n",
    "silhouette_fig, ax = plt.subplots()\n",
    "\n",
    "ax.plot(range(2, 21), silhouette)\n",
    "\n",
    "ax.set_xlabel('Number of clusters')\n",
    "ax.set_ylabel('Silhouette score')\n",
    "\n",
    "ax.set_xticks(np.arange(2, 21, 3.0))\n",
    "\n",
    "silhouette_fig.suptitle(\"Finding the right number of clusters\", weight = 'bold', size = 18)\n",
    "\n",
    "silhouette_fig.text(x = -0.05, y = -0.08,\n",
    "    s = '______________________________________________________________',\n",
    "    fontsize = 14, color = 'grey', horizontalalignment='left')\n",
    "\n",
    "silhouette_fig.text(x = -0.05, y = -.14,\n",
    "    s = 'https://dribbleanalytics.blog                     ',\n",
    "    fontsize = 14, fontname = 'Rockwell', color = 'grey', horizontalalignment='left')\n",
    "\n",
    "silhouette_fig.savefig('silhouette-score.png', dpi = 400, bbox_inches = 'tight')"
   ]
  },
  {
   "cell_type": "code",
   "execution_count": null,
   "metadata": {},
   "outputs": [],
   "source": [
    "silhouette_diff = []\n",
    "\n",
    "for i in range(1, len(silhouette)):\n",
    "    improvement = 1 - ((1 - silhouette[i]) / (1 - silhouette[i - 1]))\n",
    "    silhouette_diff.append(improvement)\n",
    "    print(\"For n_cluster = {}, percent improvement = {}\".format(i + 2, improvement))"
   ]
  },
  {
   "cell_type": "code",
   "execution_count": null,
   "metadata": {},
   "outputs": [],
   "source": [
    "plt.style.use('fivethirtyeight')\n",
    "\n",
    "silhouette_imp_fig, ax = plt.subplots()\n",
    "\n",
    "ax.plot(range(3, 21), silhouette_diff)\n",
    "\n",
    "ax.set_xlabel('Number of clusters')\n",
    "ax.set_ylabel('% silhouette improvement')\n",
    "\n",
    "ax.set_xticks(np.arange(3, 21, 2.0))\n",
    "\n",
    "vals = ax.get_yticks()\n",
    "ax.set_yticklabels(['{:,.0%}'.format(x) for x in vals])\n",
    "\n",
    "silhouette_imp_fig.suptitle(\"Finding the right number of clusters\", weight = 'bold', size = 18)\n",
    "\n",
    "silhouette_imp_fig.text(x = -0.05, y = -0.08,\n",
    "    s = '______________________________________________________________',\n",
    "    fontsize = 14, color = 'grey', horizontalalignment='left')\n",
    "\n",
    "silhouette_imp_fig.text(x = -0.05, y = -.14,\n",
    "    s = 'https://dribbleanalytics.blog                     ',\n",
    "    fontsize = 14, fontname = 'Rockwell', color = 'grey', horizontalalignment='left')\n",
    "\n",
    "silhouette_imp_fig.savefig('silhouette-diff-score.png', dpi = 400, bbox_inches = 'tight')"
   ]
  },
  {
   "cell_type": "code",
   "execution_count": null,
   "metadata": {},
   "outputs": [],
   "source": [
    "kmeans = KMeans(n_clusters = 12, random_state = 1)\n",
    "\n",
    "kmeans.fit(x)\n",
    "\n",
    "y_kmeans = kmeans.predict(x)"
   ]
  },
  {
   "cell_type": "code",
   "execution_count": null,
   "metadata": {},
   "outputs": [],
   "source": [
    "df_cluster = pd.DataFrame()\n",
    "\n",
    "df_cluster['Player'] = df_full_nba['Player']\n",
    "df_cluster['Cluster'] = y_kmeans\n",
    "\n",
    "df_cluster.head()"
   ]
  },
  {
   "cell_type": "code",
   "execution_count": null,
   "metadata": {},
   "outputs": [],
   "source": [
    "interest_stats = ['PTS', 'TRB', 'AST', 'STL', 'BLK', 'FG%', '3P%', 'FT%', 'USG%']\n",
    "\n",
    "def cluster_stats(cluster):\n",
    "    \n",
    "    print(df_full_nba[interest_stats].loc[df_cluster['Cluster'] == cluster].mean())"
   ]
  },
  {
   "cell_type": "code",
   "execution_count": null,
   "metadata": {},
   "outputs": [],
   "source": [
    "df_cluster[df_cluster['Cluster'] == 11]"
   ]
  },
  {
   "cell_type": "code",
   "execution_count": null,
   "metadata": {},
   "outputs": [],
   "source": [
    "cluster_stats(11)"
   ]
  },
  {
   "cell_type": "code",
   "execution_count": null,
   "metadata": {},
   "outputs": [],
   "source": [
    "df_cluster[interest_stats] = df_full_nba[interest_stats]"
   ]
  },
  {
   "cell_type": "code",
   "execution_count": null,
   "metadata": {},
   "outputs": [],
   "source": [
    "df_cluster['Cluster'] = df_cluster['Cluster'] + 1"
   ]
  },
  {
   "cell_type": "code",
   "execution_count": null,
   "metadata": {},
   "outputs": [],
   "source": [
    "roles = ['3&D guard', 'Perimiter scorer', 'Rim runner', '???', 'Star big', 'Shooter', 'Star ball handler',\n",
    "         'Team-leading guard', 'Do it all big', 'Floor general', 'Inside big', '3&D forward']\n",
    "\n",
    "cluster_dict = dict(zip(list(range(1, 13)), roles))"
   ]
  },
  {
   "cell_type": "code",
   "execution_count": null,
   "metadata": {},
   "outputs": [],
   "source": [
    "df_cluster['Role'] = df_cluster['Cluster'].map(cluster_dict)"
   ]
  },
  {
   "cell_type": "code",
   "execution_count": null,
   "metadata": {},
   "outputs": [],
   "source": [
    "df_cluster.head()"
   ]
  },
  {
   "cell_type": "code",
   "execution_count": null,
   "metadata": {},
   "outputs": [],
   "source": [
    "df_cluster = df_cluster[['Player', 'Cluster', 'Role', 'PTS', 'TRB', 'AST', 'STL', 'BLK', 'FG%', '3P%', 'FT%', 'USG%']]\n",
    "df_cluster.to_csv('clustered-nba.csv')"
   ]
  },
  {
   "cell_type": "code",
   "execution_count": null,
   "metadata": {},
   "outputs": [],
   "source": [
    "df_avg = df_cluster.groupby('Role')[interest_stats].mean()"
   ]
  },
  {
   "cell_type": "code",
   "execution_count": null,
   "metadata": {},
   "outputs": [],
   "source": [
    "df_avg"
   ]
  }
 ],
 "metadata": {
  "kernelspec": {
   "display_name": "Python 3",
   "language": "python",
   "name": "python3"
  },
  "language_info": {
   "codemirror_mode": {
    "name": "ipython",
    "version": 3
   },
   "file_extension": ".py",
   "mimetype": "text/x-python",
   "name": "python",
   "nbconvert_exporter": "python",
   "pygments_lexer": "ipython3",
   "version": "3.6.4"
  }
 },
 "nbformat": 4,
 "nbformat_minor": 2
}
